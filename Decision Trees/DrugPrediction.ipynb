{
 "cells": [
  {
   "cell_type": "code",
   "execution_count": 42,
   "id": "6b6d10f0",
   "metadata": {},
   "outputs": [],
   "source": [
    "import numpy as np\n",
    "import pandas as pd\n",
    "import matplotlib.pyplot as plt\n",
    "from sklearn.preprocessing import LabelEncoder\n",
    "from sklearn.metrics import accuracy_score\n",
    "from sklearn.model_selection import train_test_split\n",
    "from sklearn.tree import DecisionTreeClassifier, plot_tree"
   ]
  },
  {
   "cell_type": "code",
   "execution_count": 43,
   "id": "44518d0f",
   "metadata": {},
   "outputs": [
    {
     "data": {
      "application/vnd.microsoft.datawrangler.viewer.v0+json": {
       "columns": [
        {
         "name": "index",
         "rawType": "int64",
         "type": "integer"
        },
        {
         "name": "Age",
         "rawType": "int64",
         "type": "integer"
        },
        {
         "name": "Sex",
         "rawType": "object",
         "type": "string"
        },
        {
         "name": "BP",
         "rawType": "object",
         "type": "string"
        },
        {
         "name": "Cholesterol",
         "rawType": "object",
         "type": "string"
        },
        {
         "name": "Na_to_K",
         "rawType": "float64",
         "type": "float"
        },
        {
         "name": "Drug",
         "rawType": "object",
         "type": "string"
        }
       ],
       "ref": "ce36c3ed-9c61-4dba-9827-46456a67abac",
       "rows": [
        [
         "0",
         "23",
         "F",
         "HIGH",
         "HIGH",
         "25.355",
         "drugY"
        ],
        [
         "1",
         "47",
         "M",
         "LOW",
         "HIGH",
         "13.093",
         "drugC"
        ],
        [
         "2",
         "47",
         "M",
         "LOW",
         "HIGH",
         "10.114",
         "drugC"
        ],
        [
         "3",
         "28",
         "F",
         "NORMAL",
         "HIGH",
         "7.798",
         "drugX"
        ],
        [
         "4",
         "61",
         "F",
         "LOW",
         "HIGH",
         "18.043",
         "drugY"
        ],
        [
         "5",
         "22",
         "F",
         "NORMAL",
         "HIGH",
         "8.607",
         "drugX"
        ],
        [
         "6",
         "49",
         "F",
         "NORMAL",
         "HIGH",
         "16.275",
         "drugY"
        ],
        [
         "7",
         "41",
         "M",
         "LOW",
         "HIGH",
         "11.037",
         "drugC"
        ],
        [
         "8",
         "60",
         "M",
         "NORMAL",
         "HIGH",
         "15.171",
         "drugY"
        ],
        [
         "9",
         "43",
         "M",
         "LOW",
         "NORMAL",
         "19.368",
         "drugY"
        ],
        [
         "10",
         "47",
         "F",
         "LOW",
         "HIGH",
         "11.767",
         "drugC"
        ],
        [
         "11",
         "34",
         "F",
         "HIGH",
         "NORMAL",
         "19.199",
         "drugY"
        ],
        [
         "12",
         "43",
         "M",
         "LOW",
         "HIGH",
         "15.376",
         "drugY"
        ],
        [
         "13",
         "74",
         "F",
         "LOW",
         "HIGH",
         "20.942",
         "drugY"
        ],
        [
         "14",
         "50",
         "F",
         "NORMAL",
         "HIGH",
         "12.703",
         "drugX"
        ],
        [
         "15",
         "16",
         "F",
         "HIGH",
         "NORMAL",
         "15.516",
         "drugY"
        ],
        [
         "16",
         "69",
         "M",
         "LOW",
         "NORMAL",
         "11.455",
         "drugX"
        ],
        [
         "17",
         "43",
         "M",
         "HIGH",
         "HIGH",
         "13.972",
         "drugA"
        ],
        [
         "18",
         "23",
         "M",
         "LOW",
         "HIGH",
         "7.298",
         "drugC"
        ],
        [
         "19",
         "32",
         "F",
         "HIGH",
         "NORMAL",
         "25.974",
         "drugY"
        ],
        [
         "20",
         "57",
         "M",
         "LOW",
         "NORMAL",
         "19.128",
         "drugY"
        ],
        [
         "21",
         "63",
         "M",
         "NORMAL",
         "HIGH",
         "25.917",
         "drugY"
        ],
        [
         "22",
         "47",
         "M",
         "LOW",
         "NORMAL",
         "30.568",
         "drugY"
        ],
        [
         "23",
         "48",
         "F",
         "LOW",
         "HIGH",
         "15.036",
         "drugY"
        ],
        [
         "24",
         "33",
         "F",
         "LOW",
         "HIGH",
         "33.486",
         "drugY"
        ],
        [
         "25",
         "28",
         "F",
         "HIGH",
         "NORMAL",
         "18.809",
         "drugY"
        ],
        [
         "26",
         "31",
         "M",
         "HIGH",
         "HIGH",
         "30.366",
         "drugY"
        ],
        [
         "27",
         "49",
         "F",
         "NORMAL",
         "NORMAL",
         "9.381",
         "drugX"
        ],
        [
         "28",
         "39",
         "F",
         "LOW",
         "NORMAL",
         "22.697",
         "drugY"
        ],
        [
         "29",
         "45",
         "M",
         "LOW",
         "HIGH",
         "17.951",
         "drugY"
        ],
        [
         "30",
         "18",
         "F",
         "NORMAL",
         "NORMAL",
         "8.75",
         "drugX"
        ],
        [
         "31",
         "74",
         "M",
         "HIGH",
         "HIGH",
         "9.567",
         "drugB"
        ],
        [
         "32",
         "49",
         "M",
         "LOW",
         "NORMAL",
         "11.014",
         "drugX"
        ],
        [
         "33",
         "65",
         "F",
         "HIGH",
         "NORMAL",
         "31.876",
         "drugY"
        ],
        [
         "34",
         "53",
         "M",
         "NORMAL",
         "HIGH",
         "14.133",
         "drugX"
        ],
        [
         "35",
         "46",
         "M",
         "NORMAL",
         "NORMAL",
         "7.285",
         "drugX"
        ],
        [
         "36",
         "32",
         "M",
         "HIGH",
         "NORMAL",
         "9.445",
         "drugA"
        ],
        [
         "37",
         "39",
         "M",
         "LOW",
         "NORMAL",
         "13.938",
         "drugX"
        ],
        [
         "38",
         "39",
         "F",
         "NORMAL",
         "NORMAL",
         "9.709",
         "drugX"
        ],
        [
         "39",
         "15",
         "M",
         "NORMAL",
         "HIGH",
         "9.084",
         "drugX"
        ],
        [
         "40",
         "73",
         "F",
         "NORMAL",
         "HIGH",
         "19.221",
         "drugY"
        ],
        [
         "41",
         "58",
         "F",
         "HIGH",
         "NORMAL",
         "14.239",
         "drugB"
        ],
        [
         "42",
         "50",
         "M",
         "NORMAL",
         "NORMAL",
         "15.79",
         "drugY"
        ],
        [
         "43",
         "23",
         "M",
         "NORMAL",
         "HIGH",
         "12.26",
         "drugX"
        ],
        [
         "44",
         "50",
         "F",
         "NORMAL",
         "NORMAL",
         "12.295",
         "drugX"
        ],
        [
         "45",
         "66",
         "F",
         "NORMAL",
         "NORMAL",
         "8.107",
         "drugX"
        ],
        [
         "46",
         "37",
         "F",
         "HIGH",
         "HIGH",
         "13.091",
         "drugA"
        ],
        [
         "47",
         "68",
         "M",
         "LOW",
         "HIGH",
         "10.291",
         "drugC"
        ],
        [
         "48",
         "23",
         "M",
         "NORMAL",
         "HIGH",
         "31.686",
         "drugY"
        ],
        [
         "49",
         "28",
         "F",
         "LOW",
         "HIGH",
         "19.796",
         "drugY"
        ]
       ],
       "shape": {
        "columns": 6,
        "rows": 200
       }
      },
      "text/html": [
       "<div>\n",
       "<style scoped>\n",
       "    .dataframe tbody tr th:only-of-type {\n",
       "        vertical-align: middle;\n",
       "    }\n",
       "\n",
       "    .dataframe tbody tr th {\n",
       "        vertical-align: top;\n",
       "    }\n",
       "\n",
       "    .dataframe thead th {\n",
       "        text-align: right;\n",
       "    }\n",
       "</style>\n",
       "<table border=\"1\" class=\"dataframe\">\n",
       "  <thead>\n",
       "    <tr style=\"text-align: right;\">\n",
       "      <th></th>\n",
       "      <th>Age</th>\n",
       "      <th>Sex</th>\n",
       "      <th>BP</th>\n",
       "      <th>Cholesterol</th>\n",
       "      <th>Na_to_K</th>\n",
       "      <th>Drug</th>\n",
       "    </tr>\n",
       "  </thead>\n",
       "  <tbody>\n",
       "    <tr>\n",
       "      <th>0</th>\n",
       "      <td>23</td>\n",
       "      <td>F</td>\n",
       "      <td>HIGH</td>\n",
       "      <td>HIGH</td>\n",
       "      <td>25.355</td>\n",
       "      <td>drugY</td>\n",
       "    </tr>\n",
       "    <tr>\n",
       "      <th>1</th>\n",
       "      <td>47</td>\n",
       "      <td>M</td>\n",
       "      <td>LOW</td>\n",
       "      <td>HIGH</td>\n",
       "      <td>13.093</td>\n",
       "      <td>drugC</td>\n",
       "    </tr>\n",
       "    <tr>\n",
       "      <th>2</th>\n",
       "      <td>47</td>\n",
       "      <td>M</td>\n",
       "      <td>LOW</td>\n",
       "      <td>HIGH</td>\n",
       "      <td>10.114</td>\n",
       "      <td>drugC</td>\n",
       "    </tr>\n",
       "    <tr>\n",
       "      <th>3</th>\n",
       "      <td>28</td>\n",
       "      <td>F</td>\n",
       "      <td>NORMAL</td>\n",
       "      <td>HIGH</td>\n",
       "      <td>7.798</td>\n",
       "      <td>drugX</td>\n",
       "    </tr>\n",
       "    <tr>\n",
       "      <th>4</th>\n",
       "      <td>61</td>\n",
       "      <td>F</td>\n",
       "      <td>LOW</td>\n",
       "      <td>HIGH</td>\n",
       "      <td>18.043</td>\n",
       "      <td>drugY</td>\n",
       "    </tr>\n",
       "    <tr>\n",
       "      <th>...</th>\n",
       "      <td>...</td>\n",
       "      <td>...</td>\n",
       "      <td>...</td>\n",
       "      <td>...</td>\n",
       "      <td>...</td>\n",
       "      <td>...</td>\n",
       "    </tr>\n",
       "    <tr>\n",
       "      <th>195</th>\n",
       "      <td>56</td>\n",
       "      <td>F</td>\n",
       "      <td>LOW</td>\n",
       "      <td>HIGH</td>\n",
       "      <td>11.567</td>\n",
       "      <td>drugC</td>\n",
       "    </tr>\n",
       "    <tr>\n",
       "      <th>196</th>\n",
       "      <td>16</td>\n",
       "      <td>M</td>\n",
       "      <td>LOW</td>\n",
       "      <td>HIGH</td>\n",
       "      <td>12.006</td>\n",
       "      <td>drugC</td>\n",
       "    </tr>\n",
       "    <tr>\n",
       "      <th>197</th>\n",
       "      <td>52</td>\n",
       "      <td>M</td>\n",
       "      <td>NORMAL</td>\n",
       "      <td>HIGH</td>\n",
       "      <td>9.894</td>\n",
       "      <td>drugX</td>\n",
       "    </tr>\n",
       "    <tr>\n",
       "      <th>198</th>\n",
       "      <td>23</td>\n",
       "      <td>M</td>\n",
       "      <td>NORMAL</td>\n",
       "      <td>NORMAL</td>\n",
       "      <td>14.020</td>\n",
       "      <td>drugX</td>\n",
       "    </tr>\n",
       "    <tr>\n",
       "      <th>199</th>\n",
       "      <td>40</td>\n",
       "      <td>F</td>\n",
       "      <td>LOW</td>\n",
       "      <td>NORMAL</td>\n",
       "      <td>11.349</td>\n",
       "      <td>drugX</td>\n",
       "    </tr>\n",
       "  </tbody>\n",
       "</table>\n",
       "<p>200 rows × 6 columns</p>\n",
       "</div>"
      ],
      "text/plain": [
       "     Age Sex      BP Cholesterol  Na_to_K   Drug\n",
       "0     23   F    HIGH        HIGH   25.355  drugY\n",
       "1     47   M     LOW        HIGH   13.093  drugC\n",
       "2     47   M     LOW        HIGH   10.114  drugC\n",
       "3     28   F  NORMAL        HIGH    7.798  drugX\n",
       "4     61   F     LOW        HIGH   18.043  drugY\n",
       "..   ...  ..     ...         ...      ...    ...\n",
       "195   56   F     LOW        HIGH   11.567  drugC\n",
       "196   16   M     LOW        HIGH   12.006  drugC\n",
       "197   52   M  NORMAL        HIGH    9.894  drugX\n",
       "198   23   M  NORMAL      NORMAL   14.020  drugX\n",
       "199   40   F     LOW      NORMAL   11.349  drugX\n",
       "\n",
       "[200 rows x 6 columns]"
      ]
     },
     "execution_count": 43,
     "metadata": {},
     "output_type": "execute_result"
    }
   ],
   "source": [
    "path= 'https://cf-courses-data.s3.us.cloud-object-storage.appdomain.cloud/IBMDeveloperSkillsNetwork-ML0101EN-SkillsNetwork/labs/Module%203/data/drug200.csv'\n",
    "my_data = pd.read_csv(path)\n",
    "my_data"
   ]
  },
  {
   "cell_type": "code",
   "execution_count": 44,
   "id": "f1ee0dd7",
   "metadata": {},
   "outputs": [
    {
     "name": "stdout",
     "output_type": "stream",
     "text": [
      "<class 'pandas.core.frame.DataFrame'>\n",
      "RangeIndex: 200 entries, 0 to 199\n",
      "Data columns (total 6 columns):\n",
      " #   Column       Non-Null Count  Dtype  \n",
      "---  ------       --------------  -----  \n",
      " 0   Age          200 non-null    int64  \n",
      " 1   Sex          200 non-null    object \n",
      " 2   BP           200 non-null    object \n",
      " 3   Cholesterol  200 non-null    object \n",
      " 4   Na_to_K      200 non-null    float64\n",
      " 5   Drug         200 non-null    object \n",
      "dtypes: float64(1), int64(1), object(4)\n",
      "memory usage: 9.5+ KB\n"
     ]
    }
   ],
   "source": [
    "my_data.info()"
   ]
  },
  {
   "cell_type": "code",
   "execution_count": 45,
   "id": "03fa42d2",
   "metadata": {},
   "outputs": [
    {
     "data": {
      "application/vnd.microsoft.datawrangler.viewer.v0+json": {
       "columns": [
        {
         "name": "index",
         "rawType": "object",
         "type": "string"
        },
        {
         "name": "Age",
         "rawType": "float64",
         "type": "float"
        },
        {
         "name": "Na_to_K",
         "rawType": "float64",
         "type": "float"
        }
       ],
       "ref": "d64c3e5c-3be0-4a7f-9543-6da573df9d3e",
       "rows": [
        [
         "count",
         "200.0",
         "200.0"
        ],
        [
         "mean",
         "44.315",
         "16.084485"
        ],
        [
         "std",
         "16.544314634751974",
         "7.223955528459516"
        ],
        [
         "min",
         "15.0",
         "6.269"
        ],
        [
         "25%",
         "31.0",
         "10.4455"
        ],
        [
         "50%",
         "45.0",
         "13.9365"
        ],
        [
         "75%",
         "58.0",
         "19.38"
        ],
        [
         "max",
         "74.0",
         "38.247"
        ]
       ],
       "shape": {
        "columns": 2,
        "rows": 8
       }
      },
      "text/html": [
       "<div>\n",
       "<style scoped>\n",
       "    .dataframe tbody tr th:only-of-type {\n",
       "        vertical-align: middle;\n",
       "    }\n",
       "\n",
       "    .dataframe tbody tr th {\n",
       "        vertical-align: top;\n",
       "    }\n",
       "\n",
       "    .dataframe thead th {\n",
       "        text-align: right;\n",
       "    }\n",
       "</style>\n",
       "<table border=\"1\" class=\"dataframe\">\n",
       "  <thead>\n",
       "    <tr style=\"text-align: right;\">\n",
       "      <th></th>\n",
       "      <th>Age</th>\n",
       "      <th>Na_to_K</th>\n",
       "    </tr>\n",
       "  </thead>\n",
       "  <tbody>\n",
       "    <tr>\n",
       "      <th>count</th>\n",
       "      <td>200.000000</td>\n",
       "      <td>200.000000</td>\n",
       "    </tr>\n",
       "    <tr>\n",
       "      <th>mean</th>\n",
       "      <td>44.315000</td>\n",
       "      <td>16.084485</td>\n",
       "    </tr>\n",
       "    <tr>\n",
       "      <th>std</th>\n",
       "      <td>16.544315</td>\n",
       "      <td>7.223956</td>\n",
       "    </tr>\n",
       "    <tr>\n",
       "      <th>min</th>\n",
       "      <td>15.000000</td>\n",
       "      <td>6.269000</td>\n",
       "    </tr>\n",
       "    <tr>\n",
       "      <th>25%</th>\n",
       "      <td>31.000000</td>\n",
       "      <td>10.445500</td>\n",
       "    </tr>\n",
       "    <tr>\n",
       "      <th>50%</th>\n",
       "      <td>45.000000</td>\n",
       "      <td>13.936500</td>\n",
       "    </tr>\n",
       "    <tr>\n",
       "      <th>75%</th>\n",
       "      <td>58.000000</td>\n",
       "      <td>19.380000</td>\n",
       "    </tr>\n",
       "    <tr>\n",
       "      <th>max</th>\n",
       "      <td>74.000000</td>\n",
       "      <td>38.247000</td>\n",
       "    </tr>\n",
       "  </tbody>\n",
       "</table>\n",
       "</div>"
      ],
      "text/plain": [
       "              Age     Na_to_K\n",
       "count  200.000000  200.000000\n",
       "mean    44.315000   16.084485\n",
       "std     16.544315    7.223956\n",
       "min     15.000000    6.269000\n",
       "25%     31.000000   10.445500\n",
       "50%     45.000000   13.936500\n",
       "75%     58.000000   19.380000\n",
       "max     74.000000   38.247000"
      ]
     },
     "execution_count": 45,
     "metadata": {},
     "output_type": "execute_result"
    }
   ],
   "source": [
    "my_data.describe()"
   ]
  },
  {
   "cell_type": "code",
   "execution_count": 46,
   "id": "c2b99024",
   "metadata": {},
   "outputs": [
    {
     "data": {
      "application/vnd.microsoft.datawrangler.viewer.v0+json": {
       "columns": [
        {
         "name": "index",
         "rawType": "int64",
         "type": "integer"
        },
        {
         "name": "Age",
         "rawType": "int64",
         "type": "integer"
        },
        {
         "name": "Sex",
         "rawType": "int32",
         "type": "integer"
        },
        {
         "name": "BP",
         "rawType": "int32",
         "type": "integer"
        },
        {
         "name": "Cholesterol",
         "rawType": "int32",
         "type": "integer"
        },
        {
         "name": "Na_to_K",
         "rawType": "float64",
         "type": "float"
        },
        {
         "name": "Drug",
         "rawType": "object",
         "type": "string"
        }
       ],
       "ref": "6345e04f-94df-4c15-b8b4-5582895897ee",
       "rows": [
        [
         "0",
         "23",
         "0",
         "0",
         "0",
         "25.355",
         "drugY"
        ],
        [
         "1",
         "47",
         "1",
         "1",
         "0",
         "13.093",
         "drugC"
        ],
        [
         "2",
         "47",
         "1",
         "1",
         "0",
         "10.114",
         "drugC"
        ],
        [
         "3",
         "28",
         "0",
         "2",
         "0",
         "7.798",
         "drugX"
        ],
        [
         "4",
         "61",
         "0",
         "1",
         "0",
         "18.043",
         "drugY"
        ],
        [
         "5",
         "22",
         "0",
         "2",
         "0",
         "8.607",
         "drugX"
        ],
        [
         "6",
         "49",
         "0",
         "2",
         "0",
         "16.275",
         "drugY"
        ],
        [
         "7",
         "41",
         "1",
         "1",
         "0",
         "11.037",
         "drugC"
        ],
        [
         "8",
         "60",
         "1",
         "2",
         "0",
         "15.171",
         "drugY"
        ],
        [
         "9",
         "43",
         "1",
         "1",
         "1",
         "19.368",
         "drugY"
        ],
        [
         "10",
         "47",
         "0",
         "1",
         "0",
         "11.767",
         "drugC"
        ],
        [
         "11",
         "34",
         "0",
         "0",
         "1",
         "19.199",
         "drugY"
        ],
        [
         "12",
         "43",
         "1",
         "1",
         "0",
         "15.376",
         "drugY"
        ],
        [
         "13",
         "74",
         "0",
         "1",
         "0",
         "20.942",
         "drugY"
        ],
        [
         "14",
         "50",
         "0",
         "2",
         "0",
         "12.703",
         "drugX"
        ],
        [
         "15",
         "16",
         "0",
         "0",
         "1",
         "15.516",
         "drugY"
        ],
        [
         "16",
         "69",
         "1",
         "1",
         "1",
         "11.455",
         "drugX"
        ],
        [
         "17",
         "43",
         "1",
         "0",
         "0",
         "13.972",
         "drugA"
        ],
        [
         "18",
         "23",
         "1",
         "1",
         "0",
         "7.298",
         "drugC"
        ],
        [
         "19",
         "32",
         "0",
         "0",
         "1",
         "25.974",
         "drugY"
        ],
        [
         "20",
         "57",
         "1",
         "1",
         "1",
         "19.128",
         "drugY"
        ],
        [
         "21",
         "63",
         "1",
         "2",
         "0",
         "25.917",
         "drugY"
        ],
        [
         "22",
         "47",
         "1",
         "1",
         "1",
         "30.568",
         "drugY"
        ],
        [
         "23",
         "48",
         "0",
         "1",
         "0",
         "15.036",
         "drugY"
        ],
        [
         "24",
         "33",
         "0",
         "1",
         "0",
         "33.486",
         "drugY"
        ],
        [
         "25",
         "28",
         "0",
         "0",
         "1",
         "18.809",
         "drugY"
        ],
        [
         "26",
         "31",
         "1",
         "0",
         "0",
         "30.366",
         "drugY"
        ],
        [
         "27",
         "49",
         "0",
         "2",
         "1",
         "9.381",
         "drugX"
        ],
        [
         "28",
         "39",
         "0",
         "1",
         "1",
         "22.697",
         "drugY"
        ],
        [
         "29",
         "45",
         "1",
         "1",
         "0",
         "17.951",
         "drugY"
        ],
        [
         "30",
         "18",
         "0",
         "2",
         "1",
         "8.75",
         "drugX"
        ],
        [
         "31",
         "74",
         "1",
         "0",
         "0",
         "9.567",
         "drugB"
        ],
        [
         "32",
         "49",
         "1",
         "1",
         "1",
         "11.014",
         "drugX"
        ],
        [
         "33",
         "65",
         "0",
         "0",
         "1",
         "31.876",
         "drugY"
        ],
        [
         "34",
         "53",
         "1",
         "2",
         "0",
         "14.133",
         "drugX"
        ],
        [
         "35",
         "46",
         "1",
         "2",
         "1",
         "7.285",
         "drugX"
        ],
        [
         "36",
         "32",
         "1",
         "0",
         "1",
         "9.445",
         "drugA"
        ],
        [
         "37",
         "39",
         "1",
         "1",
         "1",
         "13.938",
         "drugX"
        ],
        [
         "38",
         "39",
         "0",
         "2",
         "1",
         "9.709",
         "drugX"
        ],
        [
         "39",
         "15",
         "1",
         "2",
         "0",
         "9.084",
         "drugX"
        ],
        [
         "40",
         "73",
         "0",
         "2",
         "0",
         "19.221",
         "drugY"
        ],
        [
         "41",
         "58",
         "0",
         "0",
         "1",
         "14.239",
         "drugB"
        ],
        [
         "42",
         "50",
         "1",
         "2",
         "1",
         "15.79",
         "drugY"
        ],
        [
         "43",
         "23",
         "1",
         "2",
         "0",
         "12.26",
         "drugX"
        ],
        [
         "44",
         "50",
         "0",
         "2",
         "1",
         "12.295",
         "drugX"
        ],
        [
         "45",
         "66",
         "0",
         "2",
         "1",
         "8.107",
         "drugX"
        ],
        [
         "46",
         "37",
         "0",
         "0",
         "0",
         "13.091",
         "drugA"
        ],
        [
         "47",
         "68",
         "1",
         "1",
         "0",
         "10.291",
         "drugC"
        ],
        [
         "48",
         "23",
         "1",
         "2",
         "0",
         "31.686",
         "drugY"
        ],
        [
         "49",
         "28",
         "0",
         "1",
         "0",
         "19.796",
         "drugY"
        ]
       ],
       "shape": {
        "columns": 6,
        "rows": 200
       }
      },
      "text/html": [
       "<div>\n",
       "<style scoped>\n",
       "    .dataframe tbody tr th:only-of-type {\n",
       "        vertical-align: middle;\n",
       "    }\n",
       "\n",
       "    .dataframe tbody tr th {\n",
       "        vertical-align: top;\n",
       "    }\n",
       "\n",
       "    .dataframe thead th {\n",
       "        text-align: right;\n",
       "    }\n",
       "</style>\n",
       "<table border=\"1\" class=\"dataframe\">\n",
       "  <thead>\n",
       "    <tr style=\"text-align: right;\">\n",
       "      <th></th>\n",
       "      <th>Age</th>\n",
       "      <th>Sex</th>\n",
       "      <th>BP</th>\n",
       "      <th>Cholesterol</th>\n",
       "      <th>Na_to_K</th>\n",
       "      <th>Drug</th>\n",
       "    </tr>\n",
       "  </thead>\n",
       "  <tbody>\n",
       "    <tr>\n",
       "      <th>0</th>\n",
       "      <td>23</td>\n",
       "      <td>0</td>\n",
       "      <td>0</td>\n",
       "      <td>0</td>\n",
       "      <td>25.355</td>\n",
       "      <td>drugY</td>\n",
       "    </tr>\n",
       "    <tr>\n",
       "      <th>1</th>\n",
       "      <td>47</td>\n",
       "      <td>1</td>\n",
       "      <td>1</td>\n",
       "      <td>0</td>\n",
       "      <td>13.093</td>\n",
       "      <td>drugC</td>\n",
       "    </tr>\n",
       "    <tr>\n",
       "      <th>2</th>\n",
       "      <td>47</td>\n",
       "      <td>1</td>\n",
       "      <td>1</td>\n",
       "      <td>0</td>\n",
       "      <td>10.114</td>\n",
       "      <td>drugC</td>\n",
       "    </tr>\n",
       "    <tr>\n",
       "      <th>3</th>\n",
       "      <td>28</td>\n",
       "      <td>0</td>\n",
       "      <td>2</td>\n",
       "      <td>0</td>\n",
       "      <td>7.798</td>\n",
       "      <td>drugX</td>\n",
       "    </tr>\n",
       "    <tr>\n",
       "      <th>4</th>\n",
       "      <td>61</td>\n",
       "      <td>0</td>\n",
       "      <td>1</td>\n",
       "      <td>0</td>\n",
       "      <td>18.043</td>\n",
       "      <td>drugY</td>\n",
       "    </tr>\n",
       "    <tr>\n",
       "      <th>...</th>\n",
       "      <td>...</td>\n",
       "      <td>...</td>\n",
       "      <td>...</td>\n",
       "      <td>...</td>\n",
       "      <td>...</td>\n",
       "      <td>...</td>\n",
       "    </tr>\n",
       "    <tr>\n",
       "      <th>195</th>\n",
       "      <td>56</td>\n",
       "      <td>0</td>\n",
       "      <td>1</td>\n",
       "      <td>0</td>\n",
       "      <td>11.567</td>\n",
       "      <td>drugC</td>\n",
       "    </tr>\n",
       "    <tr>\n",
       "      <th>196</th>\n",
       "      <td>16</td>\n",
       "      <td>1</td>\n",
       "      <td>1</td>\n",
       "      <td>0</td>\n",
       "      <td>12.006</td>\n",
       "      <td>drugC</td>\n",
       "    </tr>\n",
       "    <tr>\n",
       "      <th>197</th>\n",
       "      <td>52</td>\n",
       "      <td>1</td>\n",
       "      <td>2</td>\n",
       "      <td>0</td>\n",
       "      <td>9.894</td>\n",
       "      <td>drugX</td>\n",
       "    </tr>\n",
       "    <tr>\n",
       "      <th>198</th>\n",
       "      <td>23</td>\n",
       "      <td>1</td>\n",
       "      <td>2</td>\n",
       "      <td>1</td>\n",
       "      <td>14.020</td>\n",
       "      <td>drugX</td>\n",
       "    </tr>\n",
       "    <tr>\n",
       "      <th>199</th>\n",
       "      <td>40</td>\n",
       "      <td>0</td>\n",
       "      <td>1</td>\n",
       "      <td>1</td>\n",
       "      <td>11.349</td>\n",
       "      <td>drugX</td>\n",
       "    </tr>\n",
       "  </tbody>\n",
       "</table>\n",
       "<p>200 rows × 6 columns</p>\n",
       "</div>"
      ],
      "text/plain": [
       "     Age  Sex  BP  Cholesterol  Na_to_K   Drug\n",
       "0     23    0   0            0   25.355  drugY\n",
       "1     47    1   1            0   13.093  drugC\n",
       "2     47    1   1            0   10.114  drugC\n",
       "3     28    0   2            0    7.798  drugX\n",
       "4     61    0   1            0   18.043  drugY\n",
       "..   ...  ...  ..          ...      ...    ...\n",
       "195   56    0   1            0   11.567  drugC\n",
       "196   16    1   1            0   12.006  drugC\n",
       "197   52    1   2            0    9.894  drugX\n",
       "198   23    1   2            1   14.020  drugX\n",
       "199   40    0   1            1   11.349  drugX\n",
       "\n",
       "[200 rows x 6 columns]"
      ]
     },
     "execution_count": 46,
     "metadata": {},
     "output_type": "execute_result"
    }
   ],
   "source": [
    "my_data['Sex'] = LabelEncoder().fit_transform(my_data['Sex'])\n",
    "my_data['BP'] = LabelEncoder().fit_transform(my_data['BP'])\n",
    "my_data['Cholesterol'] = LabelEncoder().fit_transform(my_data['Cholesterol'])\n",
    "my_data"
   ]
  },
  {
   "cell_type": "code",
   "execution_count": 47,
   "id": "8cce5967",
   "metadata": {},
   "outputs": [
    {
     "data": {
      "application/vnd.microsoft.datawrangler.viewer.v0+json": {
       "columns": [
        {
         "name": "index",
         "rawType": "int64",
         "type": "integer"
        },
        {
         "name": "Age",
         "rawType": "int64",
         "type": "integer"
        },
        {
         "name": "Sex",
         "rawType": "int32",
         "type": "integer"
        },
        {
         "name": "BP",
         "rawType": "int32",
         "type": "integer"
        },
        {
         "name": "Cholesterol",
         "rawType": "int32",
         "type": "integer"
        },
        {
         "name": "Na_to_K",
         "rawType": "float64",
         "type": "float"
        },
        {
         "name": "Drug",
         "rawType": "int64",
         "type": "integer"
        }
       ],
       "ref": "c45320e5-81ef-445e-b81b-500cdd68037e",
       "rows": [
        [
         "0",
         "23",
         "0",
         "0",
         "0",
         "25.355",
         "4"
        ],
        [
         "1",
         "47",
         "1",
         "1",
         "0",
         "13.093",
         "2"
        ],
        [
         "2",
         "47",
         "1",
         "1",
         "0",
         "10.114",
         "2"
        ],
        [
         "3",
         "28",
         "0",
         "2",
         "0",
         "7.798",
         "3"
        ],
        [
         "4",
         "61",
         "0",
         "1",
         "0",
         "18.043",
         "4"
        ],
        [
         "5",
         "22",
         "0",
         "2",
         "0",
         "8.607",
         "3"
        ],
        [
         "6",
         "49",
         "0",
         "2",
         "0",
         "16.275",
         "4"
        ],
        [
         "7",
         "41",
         "1",
         "1",
         "0",
         "11.037",
         "2"
        ],
        [
         "8",
         "60",
         "1",
         "2",
         "0",
         "15.171",
         "4"
        ],
        [
         "9",
         "43",
         "1",
         "1",
         "1",
         "19.368",
         "4"
        ],
        [
         "10",
         "47",
         "0",
         "1",
         "0",
         "11.767",
         "2"
        ],
        [
         "11",
         "34",
         "0",
         "0",
         "1",
         "19.199",
         "4"
        ],
        [
         "12",
         "43",
         "1",
         "1",
         "0",
         "15.376",
         "4"
        ],
        [
         "13",
         "74",
         "0",
         "1",
         "0",
         "20.942",
         "4"
        ],
        [
         "14",
         "50",
         "0",
         "2",
         "0",
         "12.703",
         "3"
        ],
        [
         "15",
         "16",
         "0",
         "0",
         "1",
         "15.516",
         "4"
        ],
        [
         "16",
         "69",
         "1",
         "1",
         "1",
         "11.455",
         "3"
        ],
        [
         "17",
         "43",
         "1",
         "0",
         "0",
         "13.972",
         "0"
        ],
        [
         "18",
         "23",
         "1",
         "1",
         "0",
         "7.298",
         "2"
        ],
        [
         "19",
         "32",
         "0",
         "0",
         "1",
         "25.974",
         "4"
        ],
        [
         "20",
         "57",
         "1",
         "1",
         "1",
         "19.128",
         "4"
        ],
        [
         "21",
         "63",
         "1",
         "2",
         "0",
         "25.917",
         "4"
        ],
        [
         "22",
         "47",
         "1",
         "1",
         "1",
         "30.568",
         "4"
        ],
        [
         "23",
         "48",
         "0",
         "1",
         "0",
         "15.036",
         "4"
        ],
        [
         "24",
         "33",
         "0",
         "1",
         "0",
         "33.486",
         "4"
        ],
        [
         "25",
         "28",
         "0",
         "0",
         "1",
         "18.809",
         "4"
        ],
        [
         "26",
         "31",
         "1",
         "0",
         "0",
         "30.366",
         "4"
        ],
        [
         "27",
         "49",
         "0",
         "2",
         "1",
         "9.381",
         "3"
        ],
        [
         "28",
         "39",
         "0",
         "1",
         "1",
         "22.697",
         "4"
        ],
        [
         "29",
         "45",
         "1",
         "1",
         "0",
         "17.951",
         "4"
        ],
        [
         "30",
         "18",
         "0",
         "2",
         "1",
         "8.75",
         "3"
        ],
        [
         "31",
         "74",
         "1",
         "0",
         "0",
         "9.567",
         "1"
        ],
        [
         "32",
         "49",
         "1",
         "1",
         "1",
         "11.014",
         "3"
        ],
        [
         "33",
         "65",
         "0",
         "0",
         "1",
         "31.876",
         "4"
        ],
        [
         "34",
         "53",
         "1",
         "2",
         "0",
         "14.133",
         "3"
        ],
        [
         "35",
         "46",
         "1",
         "2",
         "1",
         "7.285",
         "3"
        ],
        [
         "36",
         "32",
         "1",
         "0",
         "1",
         "9.445",
         "0"
        ],
        [
         "37",
         "39",
         "1",
         "1",
         "1",
         "13.938",
         "3"
        ],
        [
         "38",
         "39",
         "0",
         "2",
         "1",
         "9.709",
         "3"
        ],
        [
         "39",
         "15",
         "1",
         "2",
         "0",
         "9.084",
         "3"
        ],
        [
         "40",
         "73",
         "0",
         "2",
         "0",
         "19.221",
         "4"
        ],
        [
         "41",
         "58",
         "0",
         "0",
         "1",
         "14.239",
         "1"
        ],
        [
         "42",
         "50",
         "1",
         "2",
         "1",
         "15.79",
         "4"
        ],
        [
         "43",
         "23",
         "1",
         "2",
         "0",
         "12.26",
         "3"
        ],
        [
         "44",
         "50",
         "0",
         "2",
         "1",
         "12.295",
         "3"
        ],
        [
         "45",
         "66",
         "0",
         "2",
         "1",
         "8.107",
         "3"
        ],
        [
         "46",
         "37",
         "0",
         "0",
         "0",
         "13.091",
         "0"
        ],
        [
         "47",
         "68",
         "1",
         "1",
         "0",
         "10.291",
         "2"
        ],
        [
         "48",
         "23",
         "1",
         "2",
         "0",
         "31.686",
         "4"
        ],
        [
         "49",
         "28",
         "0",
         "1",
         "0",
         "19.796",
         "4"
        ]
       ],
       "shape": {
        "columns": 6,
        "rows": 200
       }
      },
      "text/html": [
       "<div>\n",
       "<style scoped>\n",
       "    .dataframe tbody tr th:only-of-type {\n",
       "        vertical-align: middle;\n",
       "    }\n",
       "\n",
       "    .dataframe tbody tr th {\n",
       "        vertical-align: top;\n",
       "    }\n",
       "\n",
       "    .dataframe thead th {\n",
       "        text-align: right;\n",
       "    }\n",
       "</style>\n",
       "<table border=\"1\" class=\"dataframe\">\n",
       "  <thead>\n",
       "    <tr style=\"text-align: right;\">\n",
       "      <th></th>\n",
       "      <th>Age</th>\n",
       "      <th>Sex</th>\n",
       "      <th>BP</th>\n",
       "      <th>Cholesterol</th>\n",
       "      <th>Na_to_K</th>\n",
       "      <th>Drug</th>\n",
       "    </tr>\n",
       "  </thead>\n",
       "  <tbody>\n",
       "    <tr>\n",
       "      <th>0</th>\n",
       "      <td>23</td>\n",
       "      <td>0</td>\n",
       "      <td>0</td>\n",
       "      <td>0</td>\n",
       "      <td>25.355</td>\n",
       "      <td>4</td>\n",
       "    </tr>\n",
       "    <tr>\n",
       "      <th>1</th>\n",
       "      <td>47</td>\n",
       "      <td>1</td>\n",
       "      <td>1</td>\n",
       "      <td>0</td>\n",
       "      <td>13.093</td>\n",
       "      <td>2</td>\n",
       "    </tr>\n",
       "    <tr>\n",
       "      <th>2</th>\n",
       "      <td>47</td>\n",
       "      <td>1</td>\n",
       "      <td>1</td>\n",
       "      <td>0</td>\n",
       "      <td>10.114</td>\n",
       "      <td>2</td>\n",
       "    </tr>\n",
       "    <tr>\n",
       "      <th>3</th>\n",
       "      <td>28</td>\n",
       "      <td>0</td>\n",
       "      <td>2</td>\n",
       "      <td>0</td>\n",
       "      <td>7.798</td>\n",
       "      <td>3</td>\n",
       "    </tr>\n",
       "    <tr>\n",
       "      <th>4</th>\n",
       "      <td>61</td>\n",
       "      <td>0</td>\n",
       "      <td>1</td>\n",
       "      <td>0</td>\n",
       "      <td>18.043</td>\n",
       "      <td>4</td>\n",
       "    </tr>\n",
       "    <tr>\n",
       "      <th>...</th>\n",
       "      <td>...</td>\n",
       "      <td>...</td>\n",
       "      <td>...</td>\n",
       "      <td>...</td>\n",
       "      <td>...</td>\n",
       "      <td>...</td>\n",
       "    </tr>\n",
       "    <tr>\n",
       "      <th>195</th>\n",
       "      <td>56</td>\n",
       "      <td>0</td>\n",
       "      <td>1</td>\n",
       "      <td>0</td>\n",
       "      <td>11.567</td>\n",
       "      <td>2</td>\n",
       "    </tr>\n",
       "    <tr>\n",
       "      <th>196</th>\n",
       "      <td>16</td>\n",
       "      <td>1</td>\n",
       "      <td>1</td>\n",
       "      <td>0</td>\n",
       "      <td>12.006</td>\n",
       "      <td>2</td>\n",
       "    </tr>\n",
       "    <tr>\n",
       "      <th>197</th>\n",
       "      <td>52</td>\n",
       "      <td>1</td>\n",
       "      <td>2</td>\n",
       "      <td>0</td>\n",
       "      <td>9.894</td>\n",
       "      <td>3</td>\n",
       "    </tr>\n",
       "    <tr>\n",
       "      <th>198</th>\n",
       "      <td>23</td>\n",
       "      <td>1</td>\n",
       "      <td>2</td>\n",
       "      <td>1</td>\n",
       "      <td>14.020</td>\n",
       "      <td>3</td>\n",
       "    </tr>\n",
       "    <tr>\n",
       "      <th>199</th>\n",
       "      <td>40</td>\n",
       "      <td>0</td>\n",
       "      <td>1</td>\n",
       "      <td>1</td>\n",
       "      <td>11.349</td>\n",
       "      <td>3</td>\n",
       "    </tr>\n",
       "  </tbody>\n",
       "</table>\n",
       "<p>200 rows × 6 columns</p>\n",
       "</div>"
      ],
      "text/plain": [
       "     Age  Sex  BP  Cholesterol  Na_to_K  Drug\n",
       "0     23    0   0            0   25.355     4\n",
       "1     47    1   1            0   13.093     2\n",
       "2     47    1   1            0   10.114     2\n",
       "3     28    0   2            0    7.798     3\n",
       "4     61    0   1            0   18.043     4\n",
       "..   ...  ...  ..          ...      ...   ...\n",
       "195   56    0   1            0   11.567     2\n",
       "196   16    1   1            0   12.006     2\n",
       "197   52    1   2            0    9.894     3\n",
       "198   23    1   2            1   14.020     3\n",
       "199   40    0   1            1   11.349     3\n",
       "\n",
       "[200 rows x 6 columns]"
      ]
     },
     "execution_count": 47,
     "metadata": {},
     "output_type": "execute_result"
    }
   ],
   "source": [
    "my_data['Drug'] = my_data['Drug'].map({'drugA' : 0 , 'drugB' : 1 , 'drugC' : 2 , 'drugX' : 3 , 'drugY' : 4})\n",
    "my_data"
   ]
  },
  {
   "cell_type": "code",
   "execution_count": 48,
   "id": "dba279f0",
   "metadata": {},
   "outputs": [
    {
     "data": {
      "application/vnd.microsoft.datawrangler.viewer.v0+json": {
       "columns": [
        {
         "name": "index",
         "rawType": "object",
         "type": "string"
        },
        {
         "name": "Age",
         "rawType": "float64",
         "type": "float"
        },
        {
         "name": "Sex",
         "rawType": "float64",
         "type": "float"
        },
        {
         "name": "BP",
         "rawType": "float64",
         "type": "float"
        },
        {
         "name": "Cholesterol",
         "rawType": "float64",
         "type": "float"
        },
        {
         "name": "Na_to_K",
         "rawType": "float64",
         "type": "float"
        },
        {
         "name": "Drug",
         "rawType": "float64",
         "type": "float"
        }
       ],
       "ref": "cde5cc3d-14a5-4213-ab27-9b96a859916b",
       "rows": [
        [
         "Age",
         "1.0",
         "0.10202736073161901",
         "0.05421240256764045",
         "-0.0682338681067544",
         "-0.06311949726772587",
         "-0.004828195721243009"
        ],
        [
         "Sex",
         "0.10202736073161901",
         "1.0",
         "-0.007814035272040007",
         "-0.008811014308235337",
         "-0.1250084928952626",
         "-0.09857280704984359"
        ],
        [
         "BP",
         "0.05421240256764045",
         "-0.007814035272040007",
         "1.0",
         "-0.13755206544220075",
         "-0.14931154656201656",
         "0.37286795607797363"
        ],
        [
         "Cholesterol",
         "-0.0682338681067544",
         "-0.008811014308235337",
         "-0.13755206544220075",
         "1.0",
         "0.010000451730312495",
         "0.05562880047671424"
        ],
        [
         "Na_to_K",
         "-0.06311949726772587",
         "-0.1250084928952626",
         "-0.14931154656201656",
         "0.010000451730312495",
         "1.0",
         "0.5891198660590573"
        ],
        [
         "Drug",
         "-0.004828195721243009",
         "-0.09857280704984359",
         "0.37286795607797363",
         "0.05562880047671424",
         "0.5891198660590573",
         "1.0"
        ]
       ],
       "shape": {
        "columns": 6,
        "rows": 6
       }
      },
      "text/html": [
       "<div>\n",
       "<style scoped>\n",
       "    .dataframe tbody tr th:only-of-type {\n",
       "        vertical-align: middle;\n",
       "    }\n",
       "\n",
       "    .dataframe tbody tr th {\n",
       "        vertical-align: top;\n",
       "    }\n",
       "\n",
       "    .dataframe thead th {\n",
       "        text-align: right;\n",
       "    }\n",
       "</style>\n",
       "<table border=\"1\" class=\"dataframe\">\n",
       "  <thead>\n",
       "    <tr style=\"text-align: right;\">\n",
       "      <th></th>\n",
       "      <th>Age</th>\n",
       "      <th>Sex</th>\n",
       "      <th>BP</th>\n",
       "      <th>Cholesterol</th>\n",
       "      <th>Na_to_K</th>\n",
       "      <th>Drug</th>\n",
       "    </tr>\n",
       "  </thead>\n",
       "  <tbody>\n",
       "    <tr>\n",
       "      <th>Age</th>\n",
       "      <td>1.000000</td>\n",
       "      <td>0.102027</td>\n",
       "      <td>0.054212</td>\n",
       "      <td>-0.068234</td>\n",
       "      <td>-0.063119</td>\n",
       "      <td>-0.004828</td>\n",
       "    </tr>\n",
       "    <tr>\n",
       "      <th>Sex</th>\n",
       "      <td>0.102027</td>\n",
       "      <td>1.000000</td>\n",
       "      <td>-0.007814</td>\n",
       "      <td>-0.008811</td>\n",
       "      <td>-0.125008</td>\n",
       "      <td>-0.098573</td>\n",
       "    </tr>\n",
       "    <tr>\n",
       "      <th>BP</th>\n",
       "      <td>0.054212</td>\n",
       "      <td>-0.007814</td>\n",
       "      <td>1.000000</td>\n",
       "      <td>-0.137552</td>\n",
       "      <td>-0.149312</td>\n",
       "      <td>0.372868</td>\n",
       "    </tr>\n",
       "    <tr>\n",
       "      <th>Cholesterol</th>\n",
       "      <td>-0.068234</td>\n",
       "      <td>-0.008811</td>\n",
       "      <td>-0.137552</td>\n",
       "      <td>1.000000</td>\n",
       "      <td>0.010000</td>\n",
       "      <td>0.055629</td>\n",
       "    </tr>\n",
       "    <tr>\n",
       "      <th>Na_to_K</th>\n",
       "      <td>-0.063119</td>\n",
       "      <td>-0.125008</td>\n",
       "      <td>-0.149312</td>\n",
       "      <td>0.010000</td>\n",
       "      <td>1.000000</td>\n",
       "      <td>0.589120</td>\n",
       "    </tr>\n",
       "    <tr>\n",
       "      <th>Drug</th>\n",
       "      <td>-0.004828</td>\n",
       "      <td>-0.098573</td>\n",
       "      <td>0.372868</td>\n",
       "      <td>0.055629</td>\n",
       "      <td>0.589120</td>\n",
       "      <td>1.000000</td>\n",
       "    </tr>\n",
       "  </tbody>\n",
       "</table>\n",
       "</div>"
      ],
      "text/plain": [
       "                  Age       Sex        BP  Cholesterol   Na_to_K      Drug\n",
       "Age          1.000000  0.102027  0.054212    -0.068234 -0.063119 -0.004828\n",
       "Sex          0.102027  1.000000 -0.007814    -0.008811 -0.125008 -0.098573\n",
       "BP           0.054212 -0.007814  1.000000    -0.137552 -0.149312  0.372868\n",
       "Cholesterol -0.068234 -0.008811 -0.137552     1.000000  0.010000  0.055629\n",
       "Na_to_K     -0.063119 -0.125008 -0.149312     0.010000  1.000000  0.589120\n",
       "Drug        -0.004828 -0.098573  0.372868     0.055629  0.589120  1.000000"
      ]
     },
     "execution_count": 48,
     "metadata": {},
     "output_type": "execute_result"
    }
   ],
   "source": [
    "my_data.corr()"
   ]
  },
  {
   "cell_type": "code",
   "execution_count": 49,
   "id": "0fa51fad",
   "metadata": {},
   "outputs": [
    {
     "data": {
      "image/png": "[encoded data removed]",
      "text/plain": [
       "<Figure size 640x480 with 1 Axes>"
      ]
     },
     "metadata": {},
     "output_type": "display_data"
    }
   ],
   "source": [
    "category_counts = my_data['Drug'].value_counts()\n",
    "\n",
    "# Plot the count plot\n",
    "plt.bar(category_counts.index, category_counts.values, color='blue')\n",
    "plt.xlabel('Drug')\n",
    "plt.ylabel('Count')\n",
    "plt.title('Category Distribution')\n",
    "#plt.xticks(rotation=45)  # Rotate labels for better readability if needed\n",
    "plt.show()"
   ]
  },
  {
   "cell_type": "code",
   "execution_count": 50,
   "id": "27192b5b",
   "metadata": {},
   "outputs": [],
   "source": [
    "X = my_data.drop(['Drug'], axis = 1)\n",
    "y = my_data['Drug']"
   ]
  },
  {
   "cell_type": "code",
   "execution_count": 54,
   "id": "3d5631c4",
   "metadata": {},
   "outputs": [],
   "source": [
    "X_train , X_test , y_train , y_test = train_test_split(X , y , test_size=0.2 , random_state=42)\n",
    "DTC = DecisionTreeClassifier(criterion='entropy' , max_depth = 4)\n",
    "drug_predictor = DTC.fit(X_train , y_train)\n",
    "y_test_pred = drug_predictor.predict(X_test)"
   ]
  },
  {
   "cell_type": "code",
   "execution_count": 55,
   "id": "74b618d9",
   "metadata": {},
   "outputs": [
    {
     "name": "stdout",
     "output_type": "stream",
     "text": [
      "Accuracy :  1.0\n"
     ]
    }
   ],
   "source": [
    "print(\"Accuracy : \" , accuracy_score(y_test , y_test_pred))"
   ]
  },
  {
   "cell_type": "code",
   "execution_count": 57,
   "id": "9ed28728",
   "metadata": {},
   "outputs": [
    {
     "data": {
      "image/png": "[encoded data removed]",
      "text/plain": [
       "<Figure size 1200x800 with 1 Axes>"
      ]
     },
     "metadata": {},
     "output_type": "display_data"
    }
   ],
   "source": [
    "plt.figure(figsize=(12,8))\n",
    "plot_tree(drug_predictor, \n",
    "          feature_names=X.columns, \n",
    "          class_names=['drugA','drugB','drugC','drugX','drugY'], \n",
    "          filled=True)\n",
    "plt.show()"
   ]
  },
  {
   "cell_type": "code",
   "execution_count": null,
   "id": "f719fab8",
   "metadata": {},
   "outputs": [],
   "source": []
  }
 ],
 "metadata": {
  "kernelspec": {
   "display_name": "Python 3",
   "language": "python",
   "name": "python3"
  },
  "language_info": {
   "codemirror_mode": {
    "name": "ipython",
    "version": 3
   },
   "file_extension": ".py",
   "mimetype": "text/x-python",
   "name": "python",
   "nbconvert_exporter": "python",
   "pygments_lexer": "ipython3",
   "version": "3.12.4"
  }
 },
 "nbformat": 4,
 "nbformat_minor": 5
}
