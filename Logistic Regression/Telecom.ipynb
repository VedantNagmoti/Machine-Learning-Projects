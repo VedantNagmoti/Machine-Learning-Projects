import pandas as pd
import numpy as np
import matplotlib.pyplot as plt
%matplotlib inline
from sklearn.preprocessing import StandardScaler
from sklearn.metrics import log_loss
from sklearn.linear_model import LogisticRegression
# churn_df = pd.read_csv("ChurnData.csv")
url = "https://cf-courses-data.s3.us.cloud-object-storage.appdomain.cloud/IBMDeveloperSkillsNetwork-ML0101EN-SkillsNetwork/labs/Module%203/data/ChurnData.csv"
churn_df = pd.read_csv(url)

churn_df
churn_df.head()
churn_df.describe()
churn_df.info()
X = np.asarray(churn_df[['tenure','age','income','internet','employ','ed']])
y = np.asarray(churn_df['churn'])
print(X)
X = StandardScaler().fit_transform(X)
X[0:4]
from sklearn.model_selection import train_test_split
X_train , X_test , y_train , y_test = train_test_split(X , y , test_size=0.2 , random_state=42)
X_train[0:5]
lr = LogisticRegression().fit(X_train , y_train)

y_pred = lr.predict(X_test)
y_pred[0:4]
coefficients = pd.Series(lr.coef_[0])
coefficients.sort_values().plot(kind='barh')
plt.title("Feature Coefficients in Logistic Regression Churn Model")
plt.xlabel("Coefficient Value")
plt.show()
y_pred_prob = lr.predict_proba(X_test)
log_loss(y_test , y_pred_prob)
